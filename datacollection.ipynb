{
 "cells": [
  {
   "cell_type": "code",
   "execution_count": 1,
   "id": "7f3e09cf-8555-4775-a15a-b5405f35cec1",
   "metadata": {},
   "outputs": [],
   "source": [
    "import time\n",
    "import pydoocs\n",
    "import numpy as np\n",
    "import matplotlib.pyplot as plt"
   ]
  },
  {
   "cell_type": "code",
   "execution_count": null,
   "id": "9d424dd9-b998-42d3-a699-6d27a2072408",
   "metadata": {},
   "outputs": [],
   "source": [
    "compressionTD11='FLASH.SDIAG/BCM/FL0.DBC1.1/COMPRESSION.normalized.TD'\n",
    "S11=pydoocs.read(compressionTD11)\n",
    "\n",
    "compressionTD12='FLASH.SDIAG/BCM/FL0.DBC1.2/COMPRESSION.normalized.TD'\n",
    "S12=pydoocs.read(compressionTD12)\n",
    "compressionTD21='FLASH.SDIAG/BCM/FL0.DBC2.1/COMPRESSION.normalized.TD'\n",
    "S21=pydoocs.read(compressionTD21)\n",
    "compressionTD21='FLASH.SDIAG/BCM/FL0.DBC2.1/COMPRESSION.normalized.TD'\n",
    "S21=pydoocs.read(compressionTD21)\n",
    "\n",
    "compressionTD22='FLASH.SDIAG/BCM/FL0.DBC2.2/COMPRESSION.normalized.TD'\n",
    "S22=pydoocs.read(compressionTD22)\n",
    "#plt.plot(S21['data'][1:,0], S21['data'][1:,1], '.') \n",
    "#plt.plot(S22['data'][1:,0], S22['data'][1:,1], '.') \n",
    "\n",
    "compressionTD51='FLASH.SDIAG/BCM/FL2.SEED5.1/COMPRESSION.normalized.TD'\n",
    "S51=pydoocs.read(compressionTD51)\n",
    "\n",
    "compressionTD52='FLASH.SDIAG/BCM/FL2.SEED5.2/COMPRESSION.normalized.TD'\n",
    "S52=pydoocs.read(compressionTD52)\n",
    "\n",
    "BAMUBC1='FLASH.SDIAG/BAM/FL0.UBC1/ARRIVAL_TIME.relative.TD'\n",
    "bamuBC1=pydoocs.read(BAMUBC1)\n",
    "\n",
    "BAMseed5='FLASH.SDIAG/BAM/FL2.SEED5/ARRIVAL_TIME.relative.TD'\n",
    "bamuseed5=pydoocs.read(BAMseed5)"
   ]
  }
 ],
 "metadata": {
  "kernelspec": {
   "display_name": "Python 3 (ipykernel)",
   "language": "python",
   "name": "python3"
  },
  "language_info": {
   "codemirror_mode": {
    "name": "ipython",
    "version": 3
   },
   "file_extension": ".py",
   "mimetype": "text/x-python",
   "name": "python",
   "nbconvert_exporter": "python",
   "pygments_lexer": "ipython3",
   "version": "3.9.16"
  }
 },
 "nbformat": 4,
 "nbformat_minor": 5
}
